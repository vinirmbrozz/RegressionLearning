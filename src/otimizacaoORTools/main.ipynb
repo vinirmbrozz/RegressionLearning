{
 "cells": [
  {
   "cell_type": "code",
   "execution_count": 2,
   "metadata": {},
   "outputs": [],
   "source": [
    "from ortools.sat.python import cp_model"
   ]
  },
  {
   "cell_type": "code",
   "execution_count": 3,
   "metadata": {},
   "outputs": [],
   "source": [
    "modelo = cp_model.CpModel()"
   ]
  },
  {
   "cell_type": "code",
   "execution_count": 5,
   "metadata": {},
   "outputs": [
    {
     "name": "stdout",
     "output_type": "stream",
     "text": [
      "OPTIMAL : 2\n"
     ]
    }
   ],
   "source": [
    "estacionamento1 = modelo.NewIntVar(1, 5, 'estacionamento1')\n",
    "\n",
    "modelo.Add(estacionamento1 > 1)\n",
    "\n",
    "solucionador = cp_model.CpSolver()\n",
    "status = solucionador.Solve(modelo)\n",
    "print(solucionador.StatusName(status), ':', solucionador.Value(estacionamento1))"
   ]
  }
 ],
 "metadata": {
  "kernelspec": {
   "display_name": "Python 3",
   "language": "python",
   "name": "python3"
  },
  "language_info": {
   "codemirror_mode": {
    "name": "ipython",
    "version": 3
   },
   "file_extension": ".py",
   "mimetype": "text/x-python",
   "name": "python",
   "nbconvert_exporter": "python",
   "pygments_lexer": "ipython3",
   "version": "3.10.12"
  }
 },
 "nbformat": 4,
 "nbformat_minor": 2
}
